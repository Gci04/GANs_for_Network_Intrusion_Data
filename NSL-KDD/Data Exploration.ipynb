{
 "cells": [
  {
   "cell_type": "markdown",
   "metadata": {},
   "source": [
    "# <center>Data Exploration</center>"
   ]
  },
  {
   "cell_type": "code",
   "execution_count": 1,
   "metadata": {},
   "outputs": [
    {
     "name": "stderr",
     "output_type": "stream",
     "text": [
      "Using TensorFlow backend.\n"
     ]
    }
   ],
   "source": [
    "import numpy as np\n",
    "import pandas as pd\n",
    "\n",
    "import preprocessing\n",
    "import cgan\n",
    "from sklearn.manifold import TSNE\n",
    "\n",
    "import matplotlib.pyplot as plt\n",
    "%matplotlib inline\n",
    "import seaborn as sns\n",
    "\n",
    "import pandas_profiling\n",
    "from sklearn.preprocessing import RobustScaler"
   ]
  },
  {
   "cell_type": "code",
   "execution_count": 2,
   "metadata": {},
   "outputs": [],
   "source": [
    "#Load Data\n",
    "train,test, label_mapping = preprocessing.get_data(encoding=\"Label\")\n",
    "data_cols = list(train.columns[ train.columns != 'label' ])\n",
    "x_train , x_test = preprocessing.preprocess(train,test,data_cols,\"Robust\",True)\n",
    "train, test = None, None\n",
    "y_train = x_train.label.values\n",
    "y_test = x_test.label.values"
   ]
  },
  {
   "cell_type": "code",
   "execution_count": 3,
   "metadata": {},
   "outputs": [
    {
     "name": "stdout",
     "output_type": "stream",
     "text": [
      "Total data features : 25\n"
     ]
    }
   ],
   "source": [
    "data_cols = list(x_train.columns[ x_train.columns != 'label' ])\n",
    "\n",
    "to_drop = preprocessing.get_contant_featues(x_train,data_cols,threshold=0.995)\n",
    "x_train.drop(to_drop, axis=1,inplace=True)\n",
    "x_test.drop(to_drop, axis=1,inplace=True)\n",
    "\n",
    "data_cols = list(x_train.columns[ x_train.columns != 'label' ])\n",
    "print(\"Total data features : {}\".format(len(data_cols)))"
   ]
  },
  {
   "cell_type": "code",
   "execution_count": 4,
   "metadata": {},
   "outputs": [
    {
     "data": {
      "text/plain": [
       "duration                          1.073651\n",
       "protocol_type                     1.000000\n",
       "service                           1.064516\n",
       "flag                              1.111111\n",
       "src_bytes                       628.794266\n",
       "dst_bytes                      5638.329329\n",
       "wrong_fragment                    1.000000\n",
       "hot                               2.566667\n",
       "logged_in                         1.000000\n",
       "num_compromised                1495.800000\n",
       "is_guest_login                    1.000000\n",
       "count                             0.974510\n",
       "srv_count                         0.986275\n",
       "same_srv_rate                     0.000000\n",
       "diff_srv_rate                     1.000000\n",
       "srv_diff_host_rate                1.000000\n",
       "dst_host_count                    0.000000\n",
       "dst_host_srv_count                0.755906\n",
       "dst_host_same_srv_rate            0.490000\n",
       "dst_host_diff_srv_rate            0.980000\n",
       "dst_host_same_src_port_rate       1.000000\n",
       "dst_host_srv_diff_host_rate       1.000000\n",
       "dst_host_serror_rate              1.000000\n",
       "dst_host_rerror_rate              1.000000\n",
       "dst_host_srv_rerror_rate          1.000000\n",
       "label                             4.000000\n",
       "dtype: float64"
      ]
     },
     "execution_count": 4,
     "metadata": {},
     "output_type": "execute_result"
    }
   ],
   "source": [
    "x_train.max(axis=0)"
   ]
  },
  {
   "cell_type": "markdown",
   "metadata": {},
   "source": [
    "### Try to remove outliers without losing much data"
   ]
  },
  {
   "cell_type": "code",
   "execution_count": 5,
   "metadata": {},
   "outputs": [
    {
     "name": "stdout",
     "output_type": "stream",
     "text": [
      "duration                       0.239977\n",
      "protocol_type                  1.000000\n",
      "service                        0.838710\n",
      "flag                           0.555556\n",
      "src_bytes                      0.024852\n",
      "dst_bytes                      0.109841\n",
      "wrong_fragment                 0.000000\n",
      "hot                            0.100000\n",
      "logged_in                      1.000000\n",
      "num_compromised                0.200000\n",
      "is_guest_login                 0.000000\n",
      "count                          1.000000\n",
      "srv_count                      0.962745\n",
      "same_srv_rate                  0.970000\n",
      "diff_srv_rate                  1.000000\n",
      "srv_diff_host_rate             1.000000\n",
      "dst_host_count                 0.960630\n",
      "dst_host_srv_count             0.996063\n",
      "dst_host_same_srv_rate         0.990000\n",
      "dst_host_diff_srv_rate         1.000000\n",
      "dst_host_same_src_port_rate    1.000000\n",
      "dst_host_srv_diff_host_rate    0.520000\n",
      "dst_host_serror_rate           1.000000\n",
      "dst_host_rerror_rate           1.000000\n",
      "dst_host_srv_rerror_rate       1.000000\n",
      "dtype: float64\n"
     ]
    }
   ],
   "source": [
    "Q1 = x_train.drop('label',axis=1).quantile(0.1)\n",
    "Q3 = x_train.drop('label',axis=1).quantile(0.99)\n",
    "IQR = Q3 - Q1\n",
    "print(IQR)"
   ]
  },
  {
   "cell_type": "code",
   "execution_count": 6,
   "metadata": {},
   "outputs": [],
   "source": [
    "\n",
    "mask = ~((x_train.drop('label',axis=1) < (Q1 - 1.5 * IQR)) | (x_train.drop('label',axis=1) > (Q3 + 1.5 * IQR))).any(axis=1)\n"
   ]
  },
  {
   "cell_type": "code",
   "execution_count": 7,
   "metadata": {},
   "outputs": [
    {
     "data": {
      "text/plain": [
       "duration                       0.595928\n",
       "protocol_type                  1.000000\n",
       "service                        1.064516\n",
       "flag                           1.111111\n",
       "src_bytes                      0.048543\n",
       "dst_bytes                      0.274548\n",
       "wrong_fragment                 0.000000\n",
       "hot                            0.166667\n",
       "logged_in                      1.000000\n",
       "num_compromised                0.400000\n",
       "is_guest_login                 0.000000\n",
       "count                          0.974510\n",
       "srv_count                      0.986275\n",
       "same_srv_rate                  0.000000\n",
       "diff_srv_rate                  1.000000\n",
       "srv_diff_host_rate             1.000000\n",
       "dst_host_count                 0.000000\n",
       "dst_host_srv_count             0.755906\n",
       "dst_host_same_srv_rate         0.490000\n",
       "dst_host_diff_srv_rate         0.980000\n",
       "dst_host_same_src_port_rate    1.000000\n",
       "dst_host_srv_diff_host_rate    1.000000\n",
       "dst_host_serror_rate           1.000000\n",
       "dst_host_rerror_rate           1.000000\n",
       "dst_host_srv_rerror_rate       1.000000\n",
       "label                          4.000000\n",
       "dtype: float64"
      ]
     },
     "execution_count": 7,
     "metadata": {},
     "output_type": "execute_result"
    }
   ],
   "source": [
    "x_train[mask].max(axis=0)"
   ]
  },
  {
   "cell_type": "code",
   "execution_count": 8,
   "metadata": {},
   "outputs": [],
   "source": [
    "x_train = x_train[mask]\n",
    "y_train = y_train[mask]"
   ]
  },
  {
   "cell_type": "code",
   "execution_count": 9,
   "metadata": {},
   "outputs": [],
   "source": [
    "att_ind = np.where(x_train.label != label_mapping[\"normal\"])[0]\n",
    "for_test = np.where(x_test.label != label_mapping[\"normal\"])[0]"
   ]
  },
  {
   "cell_type": "code",
   "execution_count": 10,
   "metadata": {},
   "outputs": [],
   "source": [
    "del label_mapping[\"normal\"]"
   ]
  },
  {
   "cell_type": "code",
   "execution_count": 19,
   "metadata": {},
   "outputs": [],
   "source": [
    "x = x_train[data_cols].values[att_ind]\n",
    "y = y_train[att_ind]\n",
    "\n",
    "#---------------------Set GAN parameters--------------------#\n",
    "rand_dim = 32\n",
    "base_n_count = 27\n",
    "n_layers = 4\n",
    "combined_ep = 1000 #500\n",
    "batch_size = 64 if len(x) > 128 else len(x)\n",
    "ep_d , ep_g = 1, 1\n",
    "learning_rate = 0.001 #5e-5\n",
    "Optimizer = 'sgd'\n",
    "activation = 'tanh'\n",
    "args = [rand_dim,n_layers,combined_ep ,batch_size,ep_d,ep_g,activation,Optimizer,learning_rate,base_n_count]"
   ]
  },
  {
   "cell_type": "code",
   "execution_count": 20,
   "metadata": {},
   "outputs": [
    {
     "name": "stdout",
     "output_type": "stream",
     "text": [
      "[0 2 3 4]\n",
      "Conditional GAN Training : Started!\n",
      "Conditional GAN Train : Finished!\n",
      "Save Model : DONE\n"
     ]
    }
   ],
   "source": [
    "model = cgan.CGAN(args,x,y.reshape(-1,1))\n",
    "model.train()\n",
    "model.dump_to_file()"
   ]
  },
  {
   "cell_type": "code",
   "execution_count": 21,
   "metadata": {},
   "outputs": [],
   "source": [
    "import numpy as np\n",
    "import pickle, os\n",
    "import pandas as pd\n",
    "from collections import defaultdict\n",
    "import matplotlib.pyplot as plt\n",
    "import seaborn as sns\n",
    "sns.set_style(\"darkgrid\")\n",
    "%matplotlib inline\n",
    "# a = os.listdir('logs')\n",
    "\n",
    "( _, _, filenames) = next(os.walk('logs'))\n"
   ]
  },
  {
   "cell_type": "code",
   "execution_count": 22,
   "metadata": {},
   "outputs": [],
   "source": [
    "def plot_summary(d_l, g_l,acc_r,acc_g, m =''):\n",
    "    n = np.arange(len(d_l))\n",
    "    title = 'Loss and Accuracy plot'+'\\n'+ m\n",
    "    title = title.replace('.pickle','')\n",
    "    fig, axs = plt.subplots(2,figsize=(19.20,10.80))\n",
    "\n",
    "    axs[0].set_title(title,fontsize=20.0,fontweight=\"bold\")\n",
    "    axs[0].plot(n, g_l,label='Generator loss',linewidth=4)\n",
    "    axs[0].plot(n, d_l,label='Discriminator loss',linewidth=4)\n",
    "    axs[0].legend(loc=0, prop={'size': 20})\n",
    "    axs[0].set_ylabel('Loss',fontsize=20.0,fontweight=\"bold\")\n",
    "    axs[0].tick_params(labelsize=20)\n",
    "    axs[0].tick_params(axis='x',which='both',bottom=False,top=False,labelbottom=False,labelsize=20)\n",
    "\n",
    "    # axs[1].plot(n, acc,'r',label='Discriminator accuracy',linewidth=4)\n",
    "    axs[1].plot(n, acc_g,label='Accuracy on Generated',linewidth=4)\n",
    "    axs[1].plot(n, acc_r,label='Accuracy on Real',linewidth=4)\n",
    "    axs[1].legend(loc=0,prop={'size': 20})\n",
    "    axs[1].set_ylabel('Accuracy',fontsize=20.0,fontweight=\"bold\")\n",
    "    axs[1].set_xlabel('Ephoc',fontsize=20.0,fontweight=\"bold\")\n",
    "    axs[1].tick_params(labelsize=20)\n",
    "\n",
    "    plt.tight_layout()\n",
    "    if not os.path.exists(\"imgs\"):\n",
    "        os.makedirs('imgs')\n",
    "    plt.savefig(f'imgs/{m[:-7]}.png',dpi = 300)\n",
    "    plt.close('all') #plt.close(fig)\n"
   ]
  },
  {
   "cell_type": "code",
   "execution_count": 23,
   "metadata": {},
   "outputs": [],
   "source": [
    "for filename in filenames :\n",
    "    with open('logs/'+filename, 'rb') as f:\n",
    "        x = pickle.load(f)\n",
    "\n",
    "    d_l = np.array(x['discriminator_loss']).ravel()\n",
    "    g_l = np.array(x['Generator_loss']).ravel()\n",
    "    acc_history = np.array(x['acc_history'])\n",
    "    acc = acc_history.sum(axis=1) * 0.5\n",
    "    acc_real = acc_history[:,1]\n",
    "    acc_gen = acc_history[:,0]\n",
    "\n",
    "    plot_summary(d_l, g_l,acc_real,acc_gen,filename)"
   ]
  },
  {
   "cell_type": "markdown",
   "metadata": {},
   "source": [
    "### <center>TSNE </center>\n",
    "Didn't work!!"
   ]
  },
  {
   "cell_type": "code",
   "execution_count": null,
   "metadata": {},
   "outputs": [],
   "source": [
    "val, counts = np.unique(y,return_counts=True)\n",
    "gen_labels = np.array([i.tolist() for j in zip(val,counts) for i in np.repeat(j[0],j[1])])[:,np.newaxis]\n",
    "gen_train = model.generate_data(gen_labels)"
   ]
  },
  {
   "cell_type": "code",
   "execution_count": null,
   "metadata": {},
   "outputs": [],
   "source": [
    "Real_embedded = TSNE(n_components=2,n_iter=500,verbose=1).fit_transform(x)\n",
    "Fake_embedded =  TSNE(n_components=2,n_iter=500,verbose=1).fit_transform(gen_train)"
   ]
  },
  {
   "cell_type": "code",
   "execution_count": null,
   "metadata": {},
   "outputs": [],
   "source": [
    "# plt.figure(figsize=(16,10))\n",
    "# palette = sns.color_palette(\"bright\", 4)\n",
    "# sns.scatterplot(Real_embedded[:,0], Real_embedded[:,1], hue=y, legend='full', palette=palette)\n",
    "# sns.scatterplot(Fake_embedded[:,0], Fake_embedded[:,1], hue=gen_labels, legend='full', palette=palette)\n",
    "# plt.show()"
   ]
  },
  {
   "cell_type": "code",
   "execution_count": null,
   "metadata": {},
   "outputs": [],
   "source": [
    "mask = np.where(y == 3)\n",
    "plt.figure(figsize=(16,10))\n",
    "palette = sns.color_palette(\"bright\", 4)\n",
    "plt.scatter(Real_embedded[mask,0], Real_embedded[mask,1])\n",
    "plt.scatter(Fake_embedded[mask,0], Fake_embedded[mask,1])\n",
    "plt.show()"
   ]
  },
  {
   "cell_type": "markdown",
   "metadata": {},
   "source": [
    "## <center>Explore each attack separately</center>"
   ]
  },
  {
   "cell_type": "code",
   "execution_count": null,
   "metadata": {},
   "outputs": [],
   "source": [
    "train,test, label_mapping = preprocessing.get_data(encoding=\"Label\")\n",
    "data_cols = list(train.columns[ train.columns != 'label' ])\n",
    "x_train , x_test = preprocessing.preprocess(train,test,data_cols,\"Robust\",True)\n",
    "train, test = None, None\n",
    "y_train = x_train.label.values\n",
    "y_test = x_test.label.values"
   ]
  },
  {
   "cell_type": "code",
   "execution_count": null,
   "metadata": {},
   "outputs": [],
   "source": [
    "data_cols = list(x_train.columns[ x_train.columns != 'label' ])\n",
    "to_drop = preprocessing.get_contant_featues(x_train,data_cols,threshold=0.99)\n",
    "x_train.drop(to_drop, axis=1,inplace=True)\n",
    "x_test.drop(to_drop, axis=1,inplace=True)\n",
    "data_cols = list(x_train.columns[ x_train.columns != 'label' ])"
   ]
  },
  {
   "cell_type": "code",
   "execution_count": null,
   "metadata": {},
   "outputs": [],
   "source": [
    "print(\"Total data features : {}\".format(len(data_cols)))"
   ]
  },
  {
   "cell_type": "markdown",
   "metadata": {},
   "source": [
    "### <center>normal</center>"
   ]
  },
  {
   "cell_type": "code",
   "execution_count": null,
   "metadata": {},
   "outputs": [],
   "source": [
    "normal_df = x_train.query('label == 1')\n",
    "print(\"# of samples : {}\".format(normal_df.shape[0]))"
   ]
  },
  {
   "cell_type": "code",
   "execution_count": null,
   "metadata": {},
   "outputs": [],
   "source": [
    "normal_df[data_cols]"
   ]
  },
  {
   "cell_type": "code",
   "execution_count": null,
   "metadata": {},
   "outputs": [],
   "source": [
    "Q1 = normal_df[data_cols].quantile(0.25)\n",
    "Q3 = normal_df[data_cols].quantile(0.75)\n",
    "IQR = Q3 - Q1\n",
    "print(IQR)"
   ]
  },
  {
   "cell_type": "markdown",
   "metadata": {},
   "source": [
    "### <center>dos</center>"
   ]
  },
  {
   "cell_type": "code",
   "execution_count": null,
   "metadata": {},
   "outputs": [],
   "source": [
    "dos_df = x_train.query('label == 0')\n",
    "print(\"# of samples : {}\".format(dos_df.shape[0]))"
   ]
  },
  {
   "cell_type": "code",
   "execution_count": null,
   "metadata": {},
   "outputs": [],
   "source": [
    "Q1 = dos_df[data_cols].quantile(0.25)\n",
    "Q3 = dos_df[data_cols].quantile(0.75)\n",
    "IQR = Q3 - Q1\n",
    "print(IQR)"
   ]
  },
  {
   "cell_type": "markdown",
   "metadata": {},
   "source": [
    "### <center>probe</center>"
   ]
  },
  {
   "cell_type": "code",
   "execution_count": null,
   "metadata": {},
   "outputs": [],
   "source": [
    "probe_df = x_train.query('label == 2')\n",
    "print(\"# of samples : {}\".format(probe_df.shape[0]))"
   ]
  },
  {
   "cell_type": "code",
   "execution_count": null,
   "metadata": {},
   "outputs": [],
   "source": [
    "Q1 = probe_df[data_cols].quantile(0.25)\n",
    "Q3 = probe_df[data_cols].quantile(0.75)\n",
    "IQR = Q3 - Q1\n",
    "print(IQR)"
   ]
  },
  {
   "cell_type": "code",
   "execution_count": null,
   "metadata": {},
   "outputs": [],
   "source": [
    "probe_df.query(\"src_bytes > 10 or dst_bytes > 10\")"
   ]
  },
  {
   "cell_type": "markdown",
   "metadata": {},
   "source": [
    "### <center>r2l</center>"
   ]
  },
  {
   "cell_type": "code",
   "execution_count": null,
   "metadata": {},
   "outputs": [],
   "source": [
    "r2l_df = x_train.query('label == 3')\n",
    "print(\"# of samples : {}\".format(r2l_df.shape[0]))"
   ]
  },
  {
   "cell_type": "code",
   "execution_count": null,
   "metadata": {},
   "outputs": [],
   "source": [
    "Q1 = r2l_df[data_cols].quantile(0.25)\n",
    "Q3 = r2l_df[data_cols].quantile(0.75)\n",
    "IQR = Q3 - Q1\n",
    "print(IQR)"
   ]
  },
  {
   "cell_type": "markdown",
   "metadata": {},
   "source": [
    "### <center>u2r</center>"
   ]
  },
  {
   "cell_type": "code",
   "execution_count": null,
   "metadata": {},
   "outputs": [],
   "source": [
    "u2r_df = x_train.query('label == 4')\n",
    "print(\"# of samples : {}\".format(u2r_df.shape[0]))"
   ]
  },
  {
   "cell_type": "code",
   "execution_count": null,
   "metadata": {},
   "outputs": [],
   "source": [
    "Q1 = u2r_df[data_cols].quantile(0.25)\n",
    "Q3 = u2r_df[data_cols].quantile(0.75)\n",
    "IQR = Q3 - Q1\n",
    "print(IQR)"
   ]
  },
  {
   "cell_type": "code",
   "execution_count": null,
   "metadata": {},
   "outputs": [],
   "source": [
    "mask = ~((train[data_cols] < (Q1 - 1.5 * IQR)) |(train[data_cols] > (Q3 + 1.5 * IQR))).any(axis=1)"
   ]
  }
 ],
 "metadata": {
  "kernelspec": {
   "display_name": "Python 3",
   "language": "python",
   "name": "python3"
  },
  "language_info": {
   "codemirror_mode": {
    "name": "ipython",
    "version": 3
   },
   "file_extension": ".py",
   "mimetype": "text/x-python",
   "name": "python",
   "nbconvert_exporter": "python",
   "pygments_lexer": "ipython3",
   "version": "3.6.5"
  }
 },
 "nbformat": 4,
 "nbformat_minor": 2
}
