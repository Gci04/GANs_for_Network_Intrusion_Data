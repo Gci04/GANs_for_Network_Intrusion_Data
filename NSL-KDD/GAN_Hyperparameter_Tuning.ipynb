{
 "cells": [
  {
   "cell_type": "markdown",
   "metadata": {},
   "source": [
    "# <center> Hyperparameter Tuning for Generative Adversarial Network (NLS-KDD) <center/>"
   ]
  },
  {
   "cell_type": "code",
   "execution_count": 1,
   "metadata": {},
   "outputs": [
    {
     "name": "stderr",
     "output_type": "stream",
     "text": [
      "Using TensorFlow backend.\n"
     ]
    }
   ],
   "source": [
    "import numpy as np\n",
    "import pandas as pd\n",
    "from sklearn.preprocessing import StandardScaler\n",
    "from sklearn.metrics import accuracy_score\n",
    "\n",
    "import preprocessing\n",
    "from classifiers import *\n",
    "from utils import *\n",
    "from matplotlib import pyplot as plt\n",
    "%matplotlib inline\n",
    "import tensorflow as tf\n",
    "from tensorflow.keras.layers import Dense, Input, Dropout\n",
    "from tensorflow.keras.models import Model\n",
    "from tensorflow.keras import backend as K\n",
    "from scipy.stats import norm\n",
    "from tensorflow.keras.losses import kullback_leibler_divergence"
   ]
  },
  {
   "cell_type": "markdown",
   "metadata": {},
   "source": [
    "## Read Data"
   ]
  },
  {
   "cell_type": "code",
   "execution_count": null,
   "metadata": {},
   "outputs": [],
   "source": [
    "train,test, label_mapping = preprocessing.get_data(encoding=\"Label\")\n",
    "x_train,y_train = train.drop(\"label\",axis=1),train.label.values\n",
    "x_test , y_test =  test.drop(\"label\",axis=1),test.label.values\n",
    "\n",
    "Scaler = StandardScaler()\n",
    "x_train = Scaler.fit_transform(x_train)\n",
    "x_test = Scaler.transform(x_test)\n",
    "\n",
    "att_ind = np.where(train.label != label_mapping[\"normal\"])[0]\n",
    "\n",
    "x = x_train[att_ind]"
   ]
  },
  {
   "cell_type": "markdown",
   "metadata": {},
   "source": [
    "## Set Hyperparams"
   ]
  },
  {
   "cell_type": "code",
   "execution_count": null,
   "metadata": {},
   "outputs": [],
   "source": [
    "rand_dim = 32\n",
    "base_n_count = 100\n",
    "\n",
    "combined_ep = 2000\n",
    "batch_size = 128 if len(x) > 128 else len(x)\n",
    "\n",
    "ep_d = 1\n",
    "ep_g = 2\n",
    "learning_rate = 0.0001"
   ]
  },
  {
   "cell_type": "markdown",
   "metadata": {},
   "source": [
    "## Generator & Discriminator Definitions"
   ]
  },
  {
   "cell_type": "code",
   "execution_count": null,
   "metadata": {},
   "outputs": [],
   "source": [
    "def get_discrimnator(data_dim, min_num_neurones,n_layers, lr ,optimizer ,activation_f)\n",
    "    model = tf.keras.models.Sequential(name='Discriminator')\n",
    "    \n",
    "    model.add(Dense(min_num_neurones*n_layers, activation=activation_f,input_dim = data_dim))\n",
    "    for n in reversed(range(1,n_layers)):\n",
    "        model.add(Dense(n*min_num_neurones, activation = activation_f))\n",
    "        \n",
    "    model.add(Dense(1,activation=\"sigmoid\"))\n",
    "    \n",
    "    model.compile(loss='binary_crossentropy', optimizer=optimizer)\n",
    "    K.set_value(model.optimizer.lr, lr)\n",
    "    \n",
    "    return model\n",
    "\n",
    "def get_generator(data_dim, min_num_neurones,noise_dim,n_layers, lr ,optimizer ,activation_f)\n",
    "    model = tf.keras.models.Sequential(name='Generator')\n",
    "    \n",
    "    model.add(Dense(min_num_neurones, activation=activation_f,input_dim = noise_dim ))\n",
    "    for n in range(1,n_layers):\n",
    "        model.add(Dense(n*min_num_neurones, activation = activation_f))\n",
    "        \n",
    "    model.add(Dense(data_dim,activation=activation_f))\n",
    "    \n",
    "    model.compile(loss='binary_crossentropy', optimizer=optimizer)\n",
    "    K.set_value(model.optimizer.lr, lr)\n",
    "    \n",
    "    return model"
   ]
  },
  {
   "cell_type": "code",
   "execution_count": null,
   "metadata": {},
   "outputs": [],
   "source": []
  }
 ],
 "metadata": {
  "kernelspec": {
   "display_name": "Python 3",
   "language": "python",
   "name": "python3"
  },
  "language_info": {
   "codemirror_mode": {
    "name": "ipython",
    "version": 3
   },
   "file_extension": ".py",
   "mimetype": "text/x-python",
   "name": "python",
   "nbconvert_exporter": "python",
   "pygments_lexer": "ipython3",
   "version": "3.6.5"
  }
 },
 "nbformat": 4,
 "nbformat_minor": 2
}
