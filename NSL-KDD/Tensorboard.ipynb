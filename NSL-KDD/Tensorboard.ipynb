{
 "cells": [
  {
   "cell_type": "code",
   "execution_count": 1,
   "metadata": {},
   "outputs": [
    {
     "name": "stderr",
     "output_type": "stream",
     "text": [
      "Using TensorFlow backend.\n"
     ]
    }
   ],
   "source": [
    "import numpy as np\n",
    "import pandas as pd\n",
    "from sklearn.preprocessing import StandardScaler\n",
    "from sklearn.metrics import accuracy_score\n",
    "\n",
    "import preprocessing\n",
    "from classifiers import *\n",
    "from utils import *\n",
    "from matplotlib import pyplot as plt\n",
    "%matplotlib inline\n",
    "import tensorflow as tf\n",
    "from tensorflow.keras.layers import Dense, Input, Dropout\n",
    "from tensorflow.keras.models import Model\n",
    "from tensorflow.keras import backend as K\n",
    "from scipy.stats import norm\n",
    "from tensorflow.keras.losses import kullback_leibler_divergence"
   ]
  },
  {
   "cell_type": "code",
   "execution_count": 2,
   "metadata": {},
   "outputs": [],
   "source": [
    "from sklearn.datasets import make_classification \n",
    "\n",
    "x, y = make_classification(n_classes=2,n_samples=10000,n_features=20)"
   ]
  },
  {
   "cell_type": "code",
   "execution_count": 27,
   "metadata": {},
   "outputs": [],
   "source": [
    "K.clear_session()\n",
    "# Setup the model\n",
    "model = tf.keras.models.Sequential()\n",
    "model.add(Dense(10*2, activation='tanh',input_dim = 20 ))\n",
    "# model.add(Dropout(0.2))\n",
    "model.add(Dense(10, activation='tanh'))\n",
    "model.add(Dense(1, activation='sigmoid'))\n",
    "\n",
    "model.compile(loss='binary_crossentropy', optimizer=\"adam\",metrics=[\"accuracy\"])"
   ]
  },
  {
   "cell_type": "code",
   "execution_count": 28,
   "metadata": {},
   "outputs": [],
   "source": [
    "def get_batch(X, y, batch_size=1):\n",
    "    batch_ix = np.random.choice(len(X), batch_size, replace=False)\n",
    "    return X[batch_ix] ,y[batch_ix]"
   ]
  },
  {
   "cell_type": "code",
   "execution_count": 32,
   "metadata": {},
   "outputs": [],
   "source": [
    "batch_size=256\n",
    "\n",
    "tensorboard = tf.keras.callbacks.TensorBoard(log_dir = \"./logs/\",histogram_freq=0,batch_size=batch_size,\n",
    "                                             write_graph=True,write_grads=True)\n",
    "\n",
    "tensorboard.set_model(model)"
   ]
  },
  {
   "cell_type": "code",
   "execution_count": 33,
   "metadata": {},
   "outputs": [],
   "source": [
    "def named_logs(model, logs):\n",
    "    result = {}\n",
    "    for l in zip(model.metrics_names, logs):\n",
    "        result[l[0]] = l[1]\n",
    "    return result\n",
    "\n",
    "# model.fit(x,y,epochs=100,batch_size=128,callbacks=[tensorboard],validation_split=0.3)\n",
    "# Run training batches, notify tensorboard at the end of each epoch\n",
    "for batch_id in range(100):\n",
    "    x_train,y_train = get_batch(x,y,batch_size)\n",
    "    logs = model.train_on_batch(x_train, y_train)\n",
    "#     tensorboard.on_epoch_end(batch_id, named_logs(model, [logs]))\n",
    "    tensorboard.on_epoch_end(batch_id, named_logs(model, logs))\n"
   ]
  }
 ],
 "metadata": {
  "kernelspec": {
   "display_name": "Python 3",
   "language": "python",
   "name": "python3"
  },
  "language_info": {
   "codemirror_mode": {
    "name": "ipython",
    "version": 3
   },
   "file_extension": ".py",
   "mimetype": "text/x-python",
   "name": "python",
   "nbconvert_exporter": "python",
   "pygments_lexer": "ipython3",
   "version": "3.6.5"
  }
 },
 "nbformat": 4,
 "nbformat_minor": 2
}
